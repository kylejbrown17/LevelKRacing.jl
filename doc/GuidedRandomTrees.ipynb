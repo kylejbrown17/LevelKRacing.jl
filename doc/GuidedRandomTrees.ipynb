{
 "cells": [
  {
   "cell_type": "markdown",
   "metadata": {},
   "source": [
    "# Guided Random Tree Search\n",
    "This is a half-finished effort to extend the planning horizon via biased kinodynamic Monte Carlo tree search."
   ]
  },
  {
   "cell_type": "code",
   "execution_count": 1,
   "metadata": {
    "collapsed": false
   },
   "outputs": [
    {
     "data": {
      "text/html": [
       "<div id=\"interact-js-shim\">\n",
       "    <script charset=\"utf-8\">\n",
       "(function (IPython, $, _, MathJax) {\n",
       "    $.event.special.destroyed = {\n",
       "\tremove: function(o) {\n",
       "\t    if (o.handler) {\n",
       "\t\to.handler.apply(this, arguments)\n",
       "\t    }\n",
       "\t}\n",
       "    }\n",
       "\n",
       "    var OutputArea = IPython.version >= \"4.0.0\" ? require(\"notebook/js/outputarea\").OutputArea : IPython.OutputArea;\n",
       "\n",
       "    var redrawValue = function (container, type, val) {\n",
       "\tvar selector = $(\"<div/>\");\n",
       "\tvar oa = new OutputArea(_.extend(selector, {\n",
       "\t    selector: selector,\n",
       "\t    prompt_area: true,\n",
       "\t    events: IPython.events,\n",
       "\t    keyboard_manager: IPython.keyboard_manager\n",
       "\t})); // Hack to work with IPython 2.1.0\n",
       "\n",
       "\tswitch (type) {\n",
       "\tcase \"image/png\":\n",
       "            var _src = 'data:' + type + ';base64,' + val;\n",
       "\t    $(container).find(\"img\").attr('src', _src);\n",
       "\t    break;\n",
       "\tcase \"text/latex\":\n",
       "\t\tif (MathJax){\n",
       "\t\t\tvar math = MathJax.Hub.getAllJax(container)[0];\n",
       "\t\t\tMathJax.Hub.Queue([\"Text\", math, val.replace(/^\\${1,2}|\\${1,2}$/g, '')]);\n",
       "\t\t\tbreak;\n",
       "\t\t}\n",
       "\tdefault:\n",
       "\t    var toinsert = OutputArea.append_map[type].apply(\n",
       "\t\toa, [val, {}, selector]\n",
       "\t    );\n",
       "\t    $(container).empty().append(toinsert.contents());\n",
       "\t    selector.remove();\n",
       "\t}\n",
       "    }\n",
       "\n",
       "\n",
       "    $(document).ready(function() {\n",
       "\tfunction initComm(evt, data) {\n",
       "\t    var comm_manager = data.kernel.comm_manager;\n",
       "        //_.extend(comm_manager.targets, require(\"widgets/js/widget\"))\n",
       "\t    comm_manager.register_target(\"Signal\", function (comm) {\n",
       "            comm.on_msg(function (msg) {\n",
       "                var val = msg.content.data.value;\n",
       "                $(\".signal-\" + comm.comm_id).each(function() {\n",
       "                var type = $(this).data(\"type\");\n",
       "                if (typeof(val[type]) !== \"undefined\" && val[type] !== null) {\n",
       "                    redrawValue(this, type, val[type], type);\n",
       "                }\n",
       "                });\n",
       "                delete val;\n",
       "                delete msg.content.data.value;\n",
       "            });\n",
       "\t    });\n",
       "\n",
       "\t    // coordingate with Comm and redraw Signals\n",
       "\t    // XXX: Test using Reactive here to improve performance\n",
       "\t    $([IPython.events]).on(\n",
       "\t\t'output_appended.OutputArea', function (event, type, value, md, toinsert) {\n",
       "\t\t    if (md && md.reactive) {\n",
       "                // console.log(md.comm_id);\n",
       "                toinsert.addClass(\"signal-\" + md.comm_id);\n",
       "                toinsert.data(\"type\", type);\n",
       "                // Signal back indicating the mimetype required\n",
       "                var comm_manager = IPython.notebook.kernel.comm_manager;\n",
       "                var comm = comm_manager.comms[md.comm_id];\n",
       "                comm.then(function (c) {\n",
       "                    c.send({action: \"subscribe_mime\",\n",
       "                       mime: type});\n",
       "                    toinsert.bind(\"destroyed\", function() {\n",
       "                        c.send({action: \"unsubscribe_mime\",\n",
       "                               mime: type});\n",
       "                    });\n",
       "                })\n",
       "\t\t    }\n",
       "\t    });\n",
       "\t}\n",
       "\n",
       "\ttry {\n",
       "\t    // try to initialize right away. otherwise, wait on the status_started event.\n",
       "\t    initComm(undefined, IPython.notebook);\n",
       "\t} catch (e) {\n",
       "\t    $([IPython.events]).on('kernel_created.Kernel kernel_created.Session', initComm);\n",
       "\t}\n",
       "    });\n",
       "})(IPython, jQuery, _, MathJax);\n",
       "</script>\n",
       "    <script>\n",
       "        window.interactLoadedFlag = true\n",
       "       $(\"#interact-js-shim\").bind(\"destroyed\", function () {\n",
       "           if (window.interactLoadedFlag) {\n",
       "               console.warn(\"JavaScript required by Interact will be removed if you remove this cell or run using Interact more than once.\")\n",
       "           }\n",
       "       })\n",
       "       $([IPython.events]).on(\"kernel_starting.Kernel kernel_restarting.Kernel\", function () { window.interactLoadedFlag = false })\n",
       "   </script>\n",
       "</div>"
      ]
     },
     "metadata": {},
     "output_type": "display_data"
    },
    {
     "name": "stderr",
     "output_type": "stream",
     "text": [
      "/Users/kyle/anaconda/lib/python2.7/site-packages/matplotlib/font_manager.py:273: UserWarning: Matplotlib is building the font cache using fc-list. This may take a moment.\n",
      "  warnings.warn('Matplotlib is building the font cache using fc-list. This may take a moment.')\n"
     ]
    }
   ],
   "source": [
    "using AutomotiveDrivingModels\n",
    "using AutoViz\n",
    "using Reactive\n",
    "using Interact\n",
    "using NearestNeighbors\n",
    "using Distributions\n",
    "using LevelKRacing"
   ]
  },
  {
   "cell_type": "markdown",
   "metadata": {},
   "source": [
    "## Initialize vehicles, track, scene"
   ]
  },
  {
   "cell_type": "code",
   "execution_count": 2,
   "metadata": {
    "collapsed": false
   },
   "outputs": [],
   "source": [
    "# scene parameters\n",
    "scene = Scene()\n",
    "framerate = 24\n",
    "Δt = 1.0/framerate # size of rendering timesteps\n",
    "n_integration_sub_steps = 3 # sub steps for smoother integration\n",
    "context = IntegratedContinuous(Δt, n_integration_sub_steps) # integrated continuous context\n",
    "\n",
    "#car parameters\n",
    "car_length = 4.8 # front wheel to back wheel\n",
    "car_width = 2.5\n",
    "v⁰  = 0.0 # initial velocity\n",
    "δ⁰ = 0.0 # initical steering angle\n",
    "\n",
    "############### INITIALIZE TRACK ################\n",
    "lane_width = 30.0\n",
    "radius = 45.0\n",
    "edge_buffer = 0.25\n",
    "T_MAX = lane_width/2.0 - car_width/2.0 - edge_buffer # max allowable projection distance from center of lane\n",
    "base_speed= 0.0\n",
    "\n",
    "# spline control points\n",
    "Pts = 50*[0 -1 -2 -3 -3.5 -3 -2 -1 -0.5 -1 -2 -3 -4 -5 -6 -6.5 -6 -5.5 -6 -6 -5 -4 -3 -2 -1.5 -1 0 1 1.5 2 3 4 5 6.25 7 7 7 7 7 7 7 6 5 4 4 4 3 2 1 0; \n",
    "       0 0 0 0 -1 -2 -2 -2 -3 -4 -4 -4 -4 -4 -4 -3 -2 -1 0 1 2 3 4 4 3 2 2 2 3 4 4 4 4 4 3 2 1 0 -1 -2 -3 -4 -4 -3 -2 -1 0 0 0 0]\n",
    "degree = 3 # degree of spline\n",
    "num_points = 10001\n",
    "num_samples = 1000\n",
    "\n",
    "track = Raceway(Pts,degree,num_points,num_samples,lane_width)\n",
    "\n",
    "carcolors = Dict{Int, Colorant}()\n",
    "\n",
    "roadind1 = RoadIndex(CurveIndex(4,0),LaneTag(1,1))\n",
    "vehstate1 = VehicleState(Frenet(roadind1, track.roadway), track.roadway, 0.0)\n",
    "vehdef1 = VehicleDef(1,AgentClass.CAR, car_length, car_width)\n",
    "push!(scene,Vehicle(vehstate1, vehdef1))\n",
    "carcolors[1] = colorant\"red\"\n",
    "track.models[1] = HRHC(1,track.roadway,context,h=12,v_max=120.0,μ=30.0,a_step=12.0,a_range=[-1,0,1],k=2)\n",
    "\n",
    "roadind2 = RoadIndex(CurveIndex(4,0),LaneTag(1,1))\n",
    "vehstate2 = VehicleState(Frenet(roadind2, track.roadway), track.roadway, 0.0)\n",
    "vehdef2 = VehicleDef(2,AgentClass.CAR, car_length, car_width)\n",
    "push!(scene,Vehicle(vehstate2, vehdef2))\n",
    "carcolors[2] = colorant\"blue\"\n",
    "track.models[2] = HRHC(2,track.roadway,context,h=12,v_max=125.0,μ=32.0,a_step=12.0,a_range=[-1,0,1],k=3)\n",
    "\n",
    "roadind3 = RoadIndex(CurveIndex(14,0),LaneTag(1,1))\n",
    "vehstate3 = VehicleState(Frenet(roadind3, track.roadway), track.roadway, 0.0)\n",
    "vehdef3 = VehicleDef(3,AgentClass.CAR, car_length, car_width)\n",
    "push!(scene,Vehicle(vehstate3, vehdef3))\n",
    "carcolors[3] = colorant\"yellow\"\n",
    "track.models[3] = HRHC(3,track.roadway,context,h=12,v_max=100.0,μ=25.0,a_step=12.0,a_range=[-1,0,1],k=3)\n",
    "\n",
    "roadind4 = RoadIndex(CurveIndex(410,0),LaneTag(1,1))\n",
    "vehstate4 = VehicleState(Frenet(roadind4, track.roadway), track.roadway, 0.0)\n",
    "vehdef4 = VehicleDef(4,AgentClass.CAR, car_length, car_width)\n",
    "push!(scene,Vehicle(vehstate4, vehdef4))\n",
    "carcolors[4] = colorant\"green\"\n",
    "track.models[4] = HRHC(4,track.roadway,context,h=12,v_max=125.0,μ=36.0,a_step=16.0,a_range=[-1,0,1],k=1)\n",
    "\n",
    "actions = Array(DriveAction, length(scene))\n",
    "\n",
    "track.obstacleMap = generateObstacleMap(scene, track.models)\n",
    "track;"
   ]
  },
  {
   "cell_type": "markdown",
   "metadata": {},
   "source": [
    "### Moving average over curvature to bias search"
   ]
  },
  {
   "cell_type": "code",
   "execution_count": 3,
   "metadata": {
    "collapsed": false
   },
   "outputs": [],
   "source": [
    "# moving average filter over curvature - used to guide motion primitive search for controller\n",
    "agent = track.models[1]\n",
    "filtersize = agent.h\n",
    "\n",
    "μk = [mean(track.k[i:i+filtersize]) for i in 1:(length(track.k) - filtersize)]\n",
    "σk = [var(track.k[i:i+filtersize]) for i in 1:(length(track.k) - filtersize)]\n",
    "σk = σk / maximum(σk) # normalized variance\n",
    "for _ in 1:filtersize # lazy wrapping - FIX LATER\n",
    "    push!(μk,0.0)\n",
    "    push!(σk,0)\n",
    "end\n",
    "\n",
    "# PyPlot.figure(figsize=[8,3])\n",
    "# PyPlot.plot(μk/maximum(μk))\n",
    "# PyPlot.plot(σk,c=\"r\")"
   ]
  },
  {
   "cell_type": "code",
   "execution_count": 4,
   "metadata": {
    "collapsed": false
   },
   "outputs": [
    {
     "data": {
      "text/plain": [
       "samplePath (generic function with 1 method)"
      ]
     },
     "execution_count": 4,
     "metadata": {},
     "output_type": "execute_result"
    }
   ],
   "source": [
    "function samplePath(s,t,ϕ,μk,σk,agent) # σk should be normalize\n",
    "    h_pdf = Truncated(Normal(agent.h*(1-.5*σk),.5*agent.h/(2+σk)),1,agent.h)\n",
    "    \n",
    "    ζ = atan(μk*agent.wheel_base)\n",
    "    idx = Int(round(.5+length(agent.δ_range)/2 * (1 - .5*sign(ϕ)*sqrt(abs(ϕ)) + sign(ζ)*sqrt(abs(ζ))/(sqrt(maximum(agent.δ_range))))))\n",
    "    idx = min(length(agent.δ_range),max(1,idx))\n",
    "    δ_pdf = Truncated(Normal(idx,10.0/(3-σk)),1,43)\n",
    "    \n",
    "    v_pdf = DiscreteUniform(1,3)\n",
    "    \n",
    "    v_cmd = rand(v_pdf)\n",
    "    δ_cmd = Int(round(rand(δ_pdf)))\n",
    "    h_cmd = Int(round(rand(h_pdf)))\n",
    "    \n",
    "    return v_cmd, δ_cmd, h_cmd\n",
    "end"
   ]
  },
  {
   "cell_type": "code",
   "execution_count": 5,
   "metadata": {
    "collapsed": false,
    "scrolled": true
   },
   "outputs": [],
   "source": [
    "type pathSegment\n",
    "    x::Array{Float64}\n",
    "    y::Array{Float64}\n",
    "    θ::Array{Float64}\n",
    "    s::Float64\n",
    "    t::Float64\n",
    "    ϕ::Float64\n",
    "    v_idx::Int\n",
    "    h::Int\n",
    "    c_idx::Int # curve index\n",
    "    obj::Float64\n",
    "    \n",
    "    function pathSegment(v_cmd,δ_cmd,h,x₀,y₀,θ₀,s₀,vᵢ,track,agent)\n",
    "        pS = new()\n",
    "        pS.h = h\n",
    "        ΔXYθ = agent.motion_map[vᵢ][v_cmd,δ_cmd,1:h,:]\n",
    "        pS.x = x₀ + cos(θ₀)*ΔXYθ[:,1] - sin(θ₀)*ΔXYθ[:,2]\n",
    "        pS.y = y₀ + sin(θ₀)*ΔXYθ[:,1] + cos(θ₀)*ΔXYθ[:,2]\n",
    "        pS.θ = θ₀ + ΔXYθ[:,3]\n",
    "        v_idx = vᵢ\n",
    "        for _ in 1:h\n",
    "            # may want to pre-compute this in motion primitives\n",
    "            v_idx = agent.v_map[v_idx][v_cmd,δ_cmd] # increment velocity to the appropriate level\n",
    "        end\n",
    "        pS.v_idx = v_idx\n",
    "        c_idx,dist = knn(track.tree,[pS.x[end];pS.y[end]],1)\n",
    "        pS.c_idx = c_idx[1]\n",
    "        pS.s, pS.t, pS.ϕ = kdProject(pS.x[end],pS.y[end],pS.θ[end],track.tree,track.roadway,agent)\n",
    "        pS.obj = calculateObjective(agent.car_ID,s₀,pS.s,pS.t,pS.ϕ,agent.T_MAX;ϕ_MAX=Float64(π),s_factor=agent.v)\n",
    "        \n",
    "        pS\n",
    "    end\n",
    "    \n",
    "end"
   ]
  },
  {
   "cell_type": "code",
   "execution_count": 6,
   "metadata": {
    "collapsed": false,
    "scrolled": true
   },
   "outputs": [
    {
     "name": "stdout",
     "output_type": "stream",
     "text": [
      "done"
     ]
    }
   ],
   "source": [
    "\"\"\"\n",
    "Random Kinodynamic Tree Search Demo\n",
    "\"\"\"\n",
    "agent = track.models[1]\n",
    "agent.v_cmd = 200\n",
    "agent.v = agent.v_range[agent.v_cmd]\n",
    "v_idx = agent.v_cmd\n",
    "\n",
    "H = 50 # total planning horizon\n",
    "N = 40 # total trajectories to sample\n",
    "n = 24 # sampling factor per round\n",
    "B_paths = [] # base paths\n",
    "M_paths = [] # incomplete (mid) paths\n",
    "C_paths = [] # completed paths\n",
    "\n",
    "o_Array = []\n",
    "\n",
    "#initial vehicle location\n",
    "posG = scene.vehicles[agent.car_ID].state.posG\n",
    "posF = scene.vehicles[agent.car_ID].state.posF\n",
    "\n",
    "v_idx_range = [i for i in 1:size(agent.motion_map[v_idx],1)]\n",
    "δ_idx_range = [i for i in 15:29]\n",
    "h_idx_range = [i for i in 6:agent.h]\n",
    "\n",
    "# initial trajectories\n",
    "# v_idxs = rand(v_idx_range,n,1)\n",
    "# δ_idxs = rand(δ_idx_range,n,1)\n",
    "# h_idxs = rand(h_idx_range,n,1)\n",
    "\n",
    "s₀,t₀,ϕ₀ = kdProject(posG.x,posG.y,posG.θ,track.tree,track.roadway,agent)\n",
    "c,d = knn(track.tree,[posG.x;posG.y],1)\n",
    "\n",
    "# Branches from root node\n",
    "for i in 1:n\n",
    "    v, δ, h = samplePath(s₀,t₀,ϕ₀,μk[c[1]],σk[c[1]],agent)\n",
    "    push!(M_paths, [pathSegment(v,δ,h,posG.x,posG.y,posG.θ,s₀,agent.v_cmd,track,agent)])\n",
    "end\n",
    "\n",
    "# second loop\n",
    "while length(C_paths) < N\n",
    "    B_paths = M_paths\n",
    "    M_paths = []\n",
    "    \n",
    "    o_Array = [exp(1/p[end].obj)*(abs(p[end].t) < agent.T_MAX) for p in B_paths]\n",
    "    o_Array = o_Array/sum(o_Array)\n",
    "    o_pdf = Categorical(o_Array)\n",
    "    while length(M_paths) < n && length(C_paths) < N\n",
    "        path_idx = rand(o_pdf)\n",
    "        path = copy(B_paths[path_idx])\n",
    "        base_node = path[end]\n",
    "        v_idx = base_node.v_idx\n",
    "        \n",
    "        v, δ, h = samplePath(base_node.s,base_node.t,base_node.ϕ,μk[base_node.c_idx],σk[base_node.c_idx],agent)\n",
    "        \n",
    "        overshoot = sum([p.h for p in path]) + h - H # overshoot past H (full horizon)\n",
    "        if overshoot >= 0\n",
    "            h -= overshoot\n",
    "        end\n",
    "        \n",
    "        x₀ = path[end].x[end]\n",
    "        y₀ = path[end].y[end]\n",
    "        θ₀ = path[end].θ[end]\n",
    "                \n",
    "        seg = pathSegment(v,δ,h,x₀,y₀,θ₀,s₀,base_node.v_idx,track,agent)\n",
    "        \n",
    "        if h != 0 && abs(seg.t) < agent.T_MAX\n",
    "            push!(path, pathSegment(v,δ,h,x₀,y₀,θ₀,s₀,base_node.v_idx,track,agent))\n",
    "        else\n",
    "            continue\n",
    "        end\n",
    "\n",
    "        if overshoot >= 0\n",
    "            push!(C_paths,path)\n",
    "            if length(C_paths) >= N\n",
    "                break\n",
    "            end\n",
    "        else\n",
    "            push!(M_paths,path)\n",
    "        end\n",
    "    end\n",
    "end\n",
    "print(\"done\")"
   ]
  },
  {
   "cell_type": "code",
   "execution_count": 7,
   "metadata": {
    "collapsed": false
   },
   "outputs": [
    {
     "data": {
      "image/png": "[encoded data removed]",
      "text/plain": [
       "PyPlot.Figure(PyObject <matplotlib.figure.Figure object at 0x316454710>)"
      ]
     },
     "metadata": {},
     "output_type": "display_data"
    },
    {
     "data": {
      "text/plain": [
       "1-element Array{Any,1}:\n",
       " PyObject <matplotlib.lines.Line2D object at 0x31efdb810>"
      ]
     },
     "execution_count": 7,
     "metadata": {},
     "output_type": "execute_result"
    }
   ],
   "source": [
    "objArray = [p[end].obj for p in C_paths]\n",
    "xArray = [p[end].x[end] for p in C_paths]\n",
    "yArray = [p[end].y[end] for p in C_paths]\n",
    "sArray = [p[end].s for p in C_paths]\n",
    "\n",
    "for i in 1:N\n",
    "    arr = nothing\n",
    "    path = C_paths[i]\n",
    "    for p in path\n",
    "        if arr == nothing\n",
    "            arr = hcat(p.x,p.y,p.θ)\n",
    "        else\n",
    "            arr = vcat(arr,hcat(p.x,p.y,p.θ))\n",
    "        end\n",
    "    end\n",
    "    PyPlot.plot(arr[:,1],arr[:,2])\n",
    "#     PyPlot.scatter(arr[end,1],arr[end,2],c=1.0/path[end].obj,edgecolor=\"none\",s=80)\n",
    "end\n",
    "\n",
    "arr = nothing\n",
    "path = C_paths[indmax([p[end].s for p in C_paths])]\n",
    "for p in path\n",
    "    if arr == nothing\n",
    "        arr = hcat(p.x,p.y,p.θ)\n",
    "    else\n",
    "        arr = vcat(arr,hcat(p.x,p.y,p.θ))\n",
    "    end\n",
    "end\n",
    "PyPlot.scatter(arr[end,1],arr[end,2],c=\"lime\",edgecolor=\"none\",s=200)\n",
    "\n",
    "PyPlot.scatter(xArray,yArray,c=sArray,edgecolor=\"none\",s=80)\n",
    "o_idx = indmax(sArray)\n",
    "PyPlot.scatter(xArray[o_idx],yArray[o_idx],c=\"white\",s=80)\n",
    "plotSplineRoadway(track.x[1:100],track.y[1:100],track.θ[1:100],lane_width)\n",
    "PyPlot.axis(\"off\")\n",
    "arr = nothing\n",
    "for p in C_paths[o_idx]\n",
    "    if arr == nothing\n",
    "        arr = hcat(p.x,p.y,p.θ)\n",
    "    else\n",
    "        arr = vcat(arr,hcat(p.x,p.y,p.θ))\n",
    "    end\n",
    "end\n",
    "PyPlot.plot(arr[:,1],arr[:,2],c=\"red\",linewidth=3)"
   ]
  },
  {
   "cell_type": "markdown",
   "metadata": {},
   "source": [
    "# Next Steps\n",
    "The next step is to use the best path from time step t_0 to seed the search at t_1"
   ]
  },
  {
   "cell_type": "code",
   "execution_count": null,
   "metadata": {
    "collapsed": false
   },
   "outputs": [],
   "source": [
    "indmax([p[end].s for p in C_paths])\n",
    "best_path = C_paths[indmax([p[end].s for p in C_paths])]\n",
    "\n",
    "# take one step and sample from next path\n",
    "seed_path = best_path\n",
    "seed_path;"
   ]
  },
  {
   "cell_type": "code",
   "execution_count": null,
   "metadata": {
    "collapsed": false
   },
   "outputs": [],
   "source": [
    "seed_path[1]."
   ]
  },
  {
   "cell_type": "code",
   "execution_count": null,
   "metadata": {
    "collapsed": true
   },
   "outputs": [],
   "source": []
  },
  {
   "cell_type": "code",
   "execution_count": null,
   "metadata": {
    "collapsed": false
   },
   "outputs": [],
   "source": [
    "# 1/h ∝ σk # likelihood of choosing small h increases with variance of curvature for track ahead\n",
    "σk = 0.0\n",
    "μk = 0.0*maximum(track.k) # if curvature positive, want to steer positive (low δ_idx)\n",
    "t = 0 # if t positive, want to steer negative (high δ_idx)\n",
    "ϕ = 0\n",
    "\n",
    "h_prob = Truncated(Normal(12*(1-.5*σk),6.0/(2+σk)),1,12)\n",
    "\n",
    "v_pdf = Truncated(Uniform(),1,3)\n",
    "\n",
    "ζ = atan(μk*agent.wheel_base)\n",
    "idx = Int(round(.5+length(agent.δ_range)/2 * (1 - .5*sign(ϕ)*sqrt(abs(ϕ)) + sign(ζ)*sqrt(abs(ζ))/(sqrt(maximum(agent.δ_range))))))\n",
    "idx = min(length(agent.δ_range),max(1,idx))\n",
    "\n",
    "\n",
    "h_range = linspace(0,13,200)\n",
    "PyPlot.figure(figsize=[12,3])\n",
    "PyPlot.subplot(1,3,1)\n",
    "PyPlot.plot(h_range,pdf(h_prob,h_range))\n",
    "PyPlot.title(\"pdf for h\")\n",
    "h_idx = max(0,min(12,Int(round(rand(h_prob)))))\n",
    "\n",
    "v_range = linspace(0,4,10)\n",
    "PyPlot.subplot(1,3,2)\n",
    "PyPlot.plot(v_range,pdf(v_pdf,v_range))\n",
    "PyPlot.title(\"pdf for v\")\n",
    "\n",
    "δ_prob = Truncated(Normal(idx,30.0/(3-σk)),1,43)\n",
    "δ_range = linspace(0,44,200)\n",
    "PyPlot.subplot(1,3,3)\n",
    "PyPlot.plot(δ_range,pdf(δ_prob,δ_range))\n",
    "PyPlot.title(\"pdf for delta\")\n",
    "\n",
    "h = Int(round(rand(h_prob)))\n",
    "δ = Int(round(rand(δ_prob)))\n",
    "δ,h\n"
   ]
  },
  {
   "cell_type": "code",
   "execution_count": null,
   "metadata": {
    "collapsed": false
   },
   "outputs": [],
   "source": [
    "curvature = maximum(track.k)\n",
    "curvature = .01"
   ]
  },
  {
   "cell_type": "code",
   "execution_count": null,
   "metadata": {
    "collapsed": false
   },
   "outputs": [],
   "source": [
    "ζ = atan(curvature*agent.wheel_base)\n",
    "idx = Int(round(.5+length(agent.δ_range)/2 * (1 + sign(ζ)*sqrt(abs(ζ))/(sqrt(maximum(agent.δ_range))))))\n",
    "idx = min(length(agent.δ_range),max(1,idx))"
   ]
  },
  {
   "cell_type": "code",
   "execution_count": null,
   "metadata": {
    "collapsed": false
   },
   "outputs": [],
   "source": [
    "tan(agent.δ_range[idx])/agent.wheel_base"
   ]
  },
  {
   "cell_type": "code",
   "execution_count": null,
   "metadata": {
    "collapsed": false
   },
   "outputs": [],
   "source": [
    "curvature = tan(agent.δ_range)/agent.wheel_base"
   ]
  },
  {
   "cell_type": "code",
   "execution_count": null,
   "metadata": {
    "collapsed": true
   },
   "outputs": [],
   "source": []
  }
 ],
 "metadata": {
  "kernelspec": {
   "display_name": "Julia 0.5.0",
   "language": "julia",
   "name": "julia-0.5"
  },
  "language_info": {
   "file_extension": ".jl",
   "mimetype": "application/julia",
   "name": "julia",
   "version": "0.5.0"
  }
 },
 "nbformat": 4,
 "nbformat_minor": 0
}
